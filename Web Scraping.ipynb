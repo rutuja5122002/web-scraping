{
 "cells": [
  {
   "cell_type": "code",
   "execution_count": null,
   "id": "9e3a2836-5a83-4c03-b9c3-57e0900a2a56",
   "metadata": {},
   "outputs": [],
   "source": [
    "import pandas as pd\n",
    "import requests\n",
    "from bs4 import BeautifulSoup\n",
    "final=pd.DataFrame()\n",
    "\n",
    "for j in range(1,100):\n",
    "\n",
    "    headers = {'User-Agent': 'Mozilla/5.0 (Windows NT 6.3; Win 64 ; x64) AppleWebKit/537.36 (KHTML, like Gecko) Chrome/80.0.3987.162 Safari/537.36'}\n",
    "    url = 'https://www.ambitionbox.com/list-of-companies?page={}'.format(j)\n",
    "    response = requests.get(url, headers=headers)\n",
    "    webpage = response.text\n",
    "    \n",
    "    soup=BeautifulSoup(webpage,'lxml')\n",
    "\n",
    "    company = soup.find_all('div', class_='companyCardWrapper')\n",
    "\n",
    "    name = []\n",
    "    rating = []\n",
    "    reviews = []\n",
    "    ctype = []\n",
    "    full_info = []\n",
    "    \n",
    "    for i in company:\n",
    "        name.append(i.find('h2').text.strip())\n",
    "        rating.append(i.find('span', class_='companyCardWrapper__companyRatingValue').text.strip())\n",
    "        reviews.append(i.find('span', class_='companyCardWrapper__ActionCount').text.strip())\n",
    "    \n",
    "    \n",
    "        inter_linking_spans = i.find_all('span', class_='companyCardWrapper__interLinking')\n",
    "        if inter_linking_spans:\n",
    "            full_info_text = inter_linking_spans[0].text.strip()\n",
    "            full_info.append(full_info_text)\n",
    "    \n",
    "    # Now, let's create separate lists for each piece of information\n",
    "    company_type = []\n",
    "    employee_count = []\n",
    "    company_status = []\n",
    "    company_age = []\n",
    "    location = []\n",
    "    \n",
    "    for info in full_info:\n",
    "        parts = info.split('|')\n",
    "        company_type.append(parts[0].strip() if len(parts) > 0 else None)\n",
    "        employee_count.append(parts[1].strip() if len(parts) > 1 else None)\n",
    "        company_status.append(parts[2].strip() if len(parts) > 2 else None)\n",
    "        company_age.append(parts[3].strip() if len(parts) > 3 else None)\n",
    "        location.append(parts[4].strip() if len(parts) > 4 else None)\n",
    "    \n",
    "    \n",
    "    # Create the DataFrame\n",
    "    d = {\n",
    "        \"name\": name,\n",
    "        \"rating\": rating,\n",
    "        \"reviews\": reviews,\n",
    "        \"company_type\": company_type,\n",
    "        \"employee_count\": employee_count,\n",
    "        \"company_status\": company_status,\n",
    "        \"company_age\": company_age,\n",
    "        \"location\": location\n",
    "    }\n",
    "    df = pd.DataFrame(d)\n",
    "    final = pd.concat([final, df], ignore_index=True)\n",
    "final"
   ]
  },
  {
   "cell_type": "code",
   "execution_count": null,
   "id": "1c178332-5e5d-4670-aee5-d6e88c5b4230",
   "metadata": {},
   "outputs": [],
   "source": [
    "final.to_csv('Company_info.csv', index=False)"
   ]
  },
  {
   "cell_type": "code",
   "execution_count": null,
   "id": "a97a4791-6e36-4907-8ac9-0382fed2d55b",
   "metadata": {},
   "outputs": [],
   "source": []
  }
 ],
 "metadata": {
  "kernelspec": {
   "display_name": "Python 3 (ipykernel)",
   "language": "python",
   "name": "python3"
  },
  "language_info": {
   "codemirror_mode": {
    "name": "ipython",
    "version": 3
   },
   "file_extension": ".py",
   "mimetype": "text/x-python",
   "name": "python",
   "nbconvert_exporter": "python",
   "pygments_lexer": "ipython3",
   "version": "3.11.7"
  }
 },
 "nbformat": 4,
 "nbformat_minor": 5
}
